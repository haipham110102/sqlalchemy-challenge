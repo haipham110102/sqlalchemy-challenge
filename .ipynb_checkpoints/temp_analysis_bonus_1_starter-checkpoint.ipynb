{
 "cells": [
  {
   "cell_type": "markdown",
   "metadata": {},
   "source": [
    "# Bonus: Temperature Analysis I"
   ]
  },
  {
   "cell_type": "code",
   "execution_count": 65,
   "metadata": {},
   "outputs": [],
   "source": [
    "import pandas as pd\n",
    "from datetime import datetime as dt"
   ]
  },
  {
   "cell_type": "code",
   "execution_count": 82,
   "metadata": {},
   "outputs": [
    {
     "data": {
      "text/plain": [
       "station     object\n",
       "date        object\n",
       "prcp       float64\n",
       "tobs         int64\n",
       "dtype: object"
      ]
     },
     "execution_count": 82,
     "metadata": {},
     "output_type": "execute_result"
    }
   ],
   "source": [
    "# \"tobs\" is \"temperature observations\"\n",
    "df = pd.read_csv('Resources/hawaii_measurements.csv')\n",
    "df.dtypes"
   ]
  },
  {
   "cell_type": "code",
   "execution_count": 83,
   "metadata": {},
   "outputs": [
    {
     "name": "stdout",
     "output_type": "stream",
     "text": [
      "           station       date  prcp  tobs\n",
      "0      USC00519397 2010-01-01  0.08    65\n",
      "1      USC00519397 2010-01-02  0.00    63\n",
      "2      USC00519397 2010-01-03  0.00    74\n",
      "3      USC00519397 2010-01-04  0.00    76\n",
      "4      USC00519397 2010-01-06   NaN    73\n",
      "...            ...        ...   ...   ...\n",
      "19545  USC00516128 2017-08-19  0.09    71\n",
      "19546  USC00516128 2017-08-20   NaN    78\n",
      "19547  USC00516128 2017-08-21  0.56    76\n",
      "19548  USC00516128 2017-08-22  0.50    76\n",
      "19549  USC00516128 2017-08-23  0.45    76\n",
      "\n",
      "[19550 rows x 4 columns]\n"
     ]
    }
   ],
   "source": [
    "# Convert the date column format from string to datetime\n",
    "df['date'] = pd.to_datetime(df['date'])\n",
    "\n",
    "df.dtypes\n",
    "print(df)"
   ]
  },
  {
   "cell_type": "code",
   "execution_count": 68,
   "metadata": {},
   "outputs": [
    {
     "name": "stdout",
     "output_type": "stream",
     "text": [
      "            date      station  prcp  tobs\n",
      "0     2010-01-01  USC00519397  0.08    65\n",
      "1     2010-01-02  USC00519397  0.00    63\n",
      "2     2010-01-03  USC00519397  0.00    74\n",
      "3     2010-01-04  USC00519397  0.00    76\n",
      "4     2010-01-06  USC00519397   NaN    73\n",
      "...          ...          ...   ...   ...\n",
      "19545 2017-08-19  USC00516128  0.09    71\n",
      "19546 2017-08-20  USC00516128   NaN    78\n",
      "19547 2017-08-21  USC00516128  0.56    76\n",
      "19548 2017-08-22  USC00516128  0.50    76\n",
      "19549 2017-08-23  USC00516128  0.45    76\n",
      "\n",
      "[19550 rows x 4 columns]\n"
     ]
    }
   ],
   "source": [
    "# Set the date column as the DataFrame index\n",
    "df = df[['date','station','prcp','tobs']]\n",
    "#print(df)\n",
    "df.set_index('station')\n",
    "print(df)\n"
   ]
  },
  {
   "cell_type": "code",
   "execution_count": 84,
   "metadata": {},
   "outputs": [
    {
     "name": "stdout",
     "output_type": "stream",
     "text": [
      "           station  prcp  tobs\n",
      "0      USC00519397  0.08    65\n",
      "1      USC00519397  0.00    63\n",
      "2      USC00519397  0.00    74\n",
      "3      USC00519397  0.00    76\n",
      "4      USC00519397   NaN    73\n",
      "...            ...   ...   ...\n",
      "19545  USC00516128  0.09    71\n",
      "19546  USC00516128   NaN    78\n",
      "19547  USC00516128  0.56    76\n",
      "19548  USC00516128  0.50    76\n",
      "19549  USC00516128  0.45    76\n",
      "\n",
      "[19550 rows x 3 columns]\n"
     ]
    }
   ],
   "source": [
    "# Drop the date column\n",
    "drop_date_df = df.drop('date', 1)\n",
    "print(drop_date_df)"
   ]
  },
  {
   "cell_type": "markdown",
   "metadata": {},
   "source": [
    "### Compare June and December data across all years "
   ]
  },
  {
   "cell_type": "code",
   "execution_count": 85,
   "metadata": {},
   "outputs": [],
   "source": [
    "from scipy import stats"
   ]
  },
  {
   "cell_type": "code",
   "execution_count": 86,
   "metadata": {},
   "outputs": [
    {
     "data": {
      "text/plain": [
       "station\n",
       "USC00511918    74.139394\n",
       "USC00513117    74.050847\n",
       "USC00514830    76.005376\n",
       "USC00516128    71.937220\n",
       "USC00517948    76.655405\n",
       "USC00518838    73.394737\n",
       "USC00519281    73.271186\n",
       "USC00519397    77.559322\n",
       "USC00519523    76.668103\n",
       "Name: tobs, dtype: float64"
      ]
     },
     "execution_count": 86,
     "metadata": {},
     "output_type": "execute_result"
    }
   ],
   "source": [
    "#Identify the average temperature in June at all stations across all available years in the dataset. \n",
    "\n",
    "june_df = df[df['date'].dt.month == 6]\n",
    "#print(june_df)\n",
    "avg_june_temp = june_df.groupby(['station'])['tobs'].mean()\n",
    "avg_june_temp"
   ]
  },
  {
   "cell_type": "code",
   "execution_count": 89,
   "metadata": {},
   "outputs": [
    {
     "data": {
      "text/plain": [
       "station\n",
       "USC00511918    69.684211\n",
       "USC00513117    71.069444\n",
       "USC00514830    73.224719\n",
       "USC00516128    69.291262\n",
       "USC00517948    71.834862\n",
       "USC00518838    72.421053\n",
       "USC00519281    69.903226\n",
       "USC00519397    71.109524\n",
       "USC00519523    72.433333\n",
       "Name: tobs, dtype: float64"
      ]
     },
     "execution_count": 89,
     "metadata": {},
     "output_type": "execute_result"
    }
   ],
   "source": [
    "#Identify the average temperature in December at all stations across all available years in the dataset.\n",
    "dec_df = df[df['date'].dt.month == 12]\n",
    "#print(dec_df)\n",
    "avg_dec_temp = dec_df.groupby(['station'])['tobs'].mean()\n",
    "avg_dec_temp"
   ]
  },
  {
   "cell_type": "code",
   "execution_count": 97,
   "metadata": {},
   "outputs": [
    {
     "data": {
      "text/plain": [
       "station\n",
       "USC00511918    75.238095\n",
       "USC00513117    75.259912\n",
       "USC00514830    77.241706\n",
       "USC00516128    72.847826\n",
       "USC00517948    78.039370\n",
       "USC00518838    74.560000\n",
       "USC00519281    74.620968\n",
       "USC00519397    78.417355\n",
       "USC00519523    77.862661\n",
       "Name: tobs, dtype: float64"
      ]
     },
     "execution_count": 97,
     "metadata": {},
     "output_type": "execute_result"
    }
   ],
   "source": [
    "#Identify the average temperature in July at all stations across all available years in the dataset.\n",
    "jul_df = df[df['date'].dt.month == 7]\n",
    "#print(jul_df)\n",
    "avg_jul_temp = jul_df.groupby(['station'])['tobs'].mean()\n",
    "avg_jul_temp"
   ]
  },
  {
   "cell_type": "code",
   "execution_count": 98,
   "metadata": {},
   "outputs": [
    {
     "data": {
      "text/plain": [
       "Ttest_indResult(statistic=-1.2715898642880572, pvalue=0.22169444293981028)"
      ]
     },
     "execution_count": 98,
     "metadata": {},
     "output_type": "execute_result"
    }
   ],
   "source": [
    "# Run paired t-test June vs July\n",
    "stats.ttest_ind(avg_june_temp, avg_jul_temp, equal_var=False)"
   ]
  },
  {
   "cell_type": "code",
   "execution_count": 90,
   "metadata": {},
   "outputs": [
    {
     "data": {
      "text/plain": [
       "Ttest_indResult(statistic=4.615865424404701, pvalue=0.0003657335214469917)"
      ]
     },
     "execution_count": 90,
     "metadata": {},
     "output_type": "execute_result"
    }
   ],
   "source": [
    "# Run paired t-test June vs December\n",
    "stats.ttest_ind(avg_june_temp, avg_dec_temp, equal_var=False)"
   ]
  },
  {
   "cell_type": "markdown",
   "metadata": {},
   "source": [
    "### Analysis"
   ]
  },
  {
   "cell_type": "code",
   "execution_count": null,
   "metadata": {},
   "outputs": [],
   "source": [
    "pvalue is below the limit, therefore, the difference in the means of June vs December is statistically significant.\n",
    "I also did the ttest for June vs July. pvalue of ttest is above the limmit. Average temperature of June vs July is about the same."
   ]
  }
 ],
 "metadata": {
  "kernelspec": {
   "display_name": "Python 3",
   "language": "python",
   "name": "python3"
  },
  "language_info": {
   "codemirror_mode": {
    "name": "ipython",
    "version": 3
   },
   "file_extension": ".py",
   "mimetype": "text/x-python",
   "name": "python",
   "nbconvert_exporter": "python",
   "pygments_lexer": "ipython3",
   "version": "3.8.8"
  }
 },
 "nbformat": 4,
 "nbformat_minor": 4
}
